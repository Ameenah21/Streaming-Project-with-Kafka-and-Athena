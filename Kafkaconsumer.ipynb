{
 "cells": [
  {
   "cell_type": "code",
   "execution_count": 1,
   "id": "23a0d016",
   "metadata": {},
   "outputs": [],
   "source": [
    "from kafka import KafkaConsumer\n",
    "from time import sleep\n",
    "from json import dumps,loads\n",
    "import json\n",
    "from s3fs import S3FileSystem"
   ]
  },
  {
   "cell_type": "code",
   "execution_count": 5,
   "id": "a5cb7cbb",
   "metadata": {},
   "outputs": [
    {
     "name": "stdout",
     "output_type": "stream",
     "text": [
      "hi\n"
     ]
    }
   ],
   "source": [
    "print(\"hi\")"
   ]
  },
  {
   "cell_type": "code",
   "execution_count": 2,
   "id": "477bc700",
   "metadata": {},
   "outputs": [
    {
     "name": "stdout",
     "output_type": "stream",
     "text": [
      "Collecting s3fs\n",
      "  Downloading s3fs-2023.6.0-py3-none-any.whl (28 kB)\n",
      "Collecting fsspec==2023.6.0\n",
      "  Downloading fsspec-2023.6.0-py3-none-any.whl (163 kB)\n",
      "\u001b[K     |████████████████████████████████| 163 kB 583 kB/s eta 0:00:01\n",
      "\u001b[?25hCollecting aiobotocore~=2.5.0\n",
      "  Downloading aiobotocore-2.5.0-py3-none-any.whl (72 kB)\n",
      "\u001b[K     |████████████████████████████████| 72 kB 822 kB/s eta 0:00:01\n",
      "\u001b[?25hRequirement already satisfied: aiohttp!=4.0.0a0,!=4.0.0a1 in /opt/anaconda3/lib/python3.9/site-packages (from s3fs) (3.8.1)\n",
      "Collecting botocore<1.29.77,>=1.29.76\n",
      "  Downloading botocore-1.29.76-py3-none-any.whl (10.4 MB)\n",
      "\u001b[K     |████████████████████████████████| 10.4 MB 171 kB/s eta 0:00:01\n",
      "\u001b[?25hRequirement already satisfied: wrapt>=1.10.10 in /opt/anaconda3/lib/python3.9/site-packages (from aiobotocore~=2.5.0->s3fs) (1.12.1)\n",
      "Collecting aioitertools>=0.5.1\n",
      "  Downloading aioitertools-0.11.0-py3-none-any.whl (23 kB)\n",
      "Requirement already satisfied: yarl<2.0,>=1.0 in /opt/anaconda3/lib/python3.9/site-packages (from aiohttp!=4.0.0a0,!=4.0.0a1->s3fs) (1.6.3)\n",
      "Requirement already satisfied: frozenlist>=1.1.1 in /opt/anaconda3/lib/python3.9/site-packages (from aiohttp!=4.0.0a0,!=4.0.0a1->s3fs) (1.2.0)\n",
      "Requirement already satisfied: multidict<7.0,>=4.5 in /opt/anaconda3/lib/python3.9/site-packages (from aiohttp!=4.0.0a0,!=4.0.0a1->s3fs) (5.2.0)\n",
      "Requirement already satisfied: charset-normalizer<3.0,>=2.0 in /opt/anaconda3/lib/python3.9/site-packages (from aiohttp!=4.0.0a0,!=4.0.0a1->s3fs) (2.0.4)\n",
      "Requirement already satisfied: attrs>=17.3.0 in /opt/anaconda3/lib/python3.9/site-packages (from aiohttp!=4.0.0a0,!=4.0.0a1->s3fs) (21.4.0)\n",
      "Requirement already satisfied: async-timeout<5.0,>=4.0.0a3 in /opt/anaconda3/lib/python3.9/site-packages (from aiohttp!=4.0.0a0,!=4.0.0a1->s3fs) (4.0.1)\n",
      "Requirement already satisfied: aiosignal>=1.1.2 in /opt/anaconda3/lib/python3.9/site-packages (from aiohttp!=4.0.0a0,!=4.0.0a1->s3fs) (1.2.0)\n",
      "Requirement already satisfied: typing_extensions>=4.0 in /opt/anaconda3/lib/python3.9/site-packages (from aioitertools>=0.5.1->aiobotocore~=2.5.0->s3fs) (4.1.1)\n",
      "Requirement already satisfied: urllib3<1.27,>=1.25.4 in /opt/anaconda3/lib/python3.9/site-packages (from botocore<1.29.77,>=1.29.76->aiobotocore~=2.5.0->s3fs) (1.26.9)\n",
      "Requirement already satisfied: python-dateutil<3.0.0,>=2.1 in /opt/anaconda3/lib/python3.9/site-packages (from botocore<1.29.77,>=1.29.76->aiobotocore~=2.5.0->s3fs) (2.8.2)\n",
      "Requirement already satisfied: jmespath<2.0.0,>=0.7.1 in /opt/anaconda3/lib/python3.9/site-packages (from botocore<1.29.77,>=1.29.76->aiobotocore~=2.5.0->s3fs) (0.10.0)\n",
      "Requirement already satisfied: six>=1.5 in /opt/anaconda3/lib/python3.9/site-packages (from python-dateutil<3.0.0,>=2.1->botocore<1.29.77,>=1.29.76->aiobotocore~=2.5.0->s3fs) (1.16.0)\n",
      "Requirement already satisfied: idna>=2.0 in /opt/anaconda3/lib/python3.9/site-packages (from yarl<2.0,>=1.0->aiohttp!=4.0.0a0,!=4.0.0a1->s3fs) (3.3)\n",
      "Installing collected packages: botocore, aioitertools, fsspec, aiobotocore, s3fs\n",
      "  Attempting uninstall: botocore\n",
      "    Found existing installation: botocore 1.24.32\n",
      "    Uninstalling botocore-1.24.32:\n",
      "      Successfully uninstalled botocore-1.24.32\n",
      "  Attempting uninstall: fsspec\n",
      "    Found existing installation: fsspec 2022.2.0\n",
      "    Uninstalling fsspec-2022.2.0:\n",
      "      Successfully uninstalled fsspec-2022.2.0\n",
      "\u001b[31mERROR: pip's dependency resolver does not currently take into account all the packages that are installed. This behaviour is the source of the following dependency conflicts.\n",
      "boto3 1.21.32 requires botocore<1.25.0,>=1.24.32, but you have botocore 1.29.76 which is incompatible.\u001b[0m\n",
      "Successfully installed aiobotocore-2.5.0 aioitertools-0.11.0 botocore-1.29.76 fsspec-2023.6.0 s3fs-2023.6.0\n",
      "Note: you may need to restart the kernel to use updated packages.\n"
     ]
    }
   ],
   "source": [
    "pip install s3fs"
   ]
  },
  {
   "cell_type": "code",
   "execution_count": 6,
   "id": "e32fc319",
   "metadata": {},
   "outputs": [],
   "source": [
    "consumer = KafkaConsumer(\n",
    "    'stockprices',\n",
    "     bootstrap_servers=['52.54.239.175:9092'],\n",
    "    value_deserializer=lambda x: loads(x.decode('utf-8')))"
   ]
  },
  {
   "cell_type": "code",
   "execution_count": 7,
   "id": "a34455f1",
   "metadata": {},
   "outputs": [
    {
     "name": "stdout",
     "output_type": "stream",
     "text": [
      "{'Index': '399001.SZ', 'Date': '2015-10-23', 'Open': 11397.2002, 'High': 11653.08984, 'Low': 11345.53027, 'Close': 11603.45996, 'Adj Close': 11603.33008, 'Volume': 1916900.0, 'CloseUSD': 1856.5535936}\n",
      "{'Index': '000001.SS', 'Date': '2011-01-06', 'Open': 2838.435059, 'High': 2853.875, 'Low': 2816.950928, 'Close': 2824.197021, 'Adj Close': 2824.197021, 'Volume': 84800.0, 'CloseUSD': 451.87152336}\n",
      "{'Index': 'SSMI', 'Date': '2012-08-14', 'Open': 6487.97998, 'High': 6509.709961, 'Low': 6479.410156, 'Close': 6505.97998, 'Adj Close': 6505.97998, 'Volume': 26591600.0, 'CloseUSD': 7221.637777800001}\n",
      "{'Index': 'N100', 'Date': '2016-06-20', 'Open': 849.380005, 'High': 859.849976, 'Low': 848.619995, 'Close': 857.359985, 'Adj Close': 857.359985, 'Volume': 239711200.0, 'CloseUSD': 1045.9791817}\n",
      "{'Index': '399001.SZ', 'Date': '2014-01-24', 'Open': 7771.580078, 'High': 7908.890137, 'Low': 7760.200195, 'Close': 7855.140137, 'Adj Close': 7855.052246, 'Volume': 105600.0, 'CloseUSD': 1256.82242192}\n",
      "{'Index': 'GDAXI', 'Date': '2021-04-22', 'Open': 15252.04004, 'High': 15328.33008, 'Low': 15230.2002, 'Close': 15320.51953, 'Adj Close': 15320.51953, 'Volume': 59628300.0, 'CloseUSD': 18691.0338266}\n",
      "{'Index': 'SSMI', 'Date': '1991-03-20', 'Open': 1586.099976, 'High': 1586.400024, 'Low': 1567.599976, 'Close': 1577.300049, 'Adj Close': 1577.300049, 'Volume': 0.0, 'CloseUSD': 1750.8030543900002}\n",
      "{'Index': 'SSMI', 'Date': '2004-05-27', 'Open': 5685.700195, 'High': 5719.0, 'Low': 5681.399902, 'Close': 5705.799805, 'Adj Close': 5705.799805, 'Volume': 38544200.0, 'CloseUSD': 6333.43778355}\n",
      "{'Index': 'IXIC', 'Date': '2005-10-12', 'Open': 2055.439941, 'High': 2064.659912, 'Low': 2032.790039, 'Close': 2037.469971, 'Adj Close': 2037.469971, 'Volume': 2014750000.0, 'CloseUSD': 2037.469971}\n",
      "{'Index': 'IXIC', 'Date': '2009-10-08', 'Open': 2124.689941, 'High': 2139.649902, 'Low': 2116.060059, 'Close': 2123.929932, 'Adj Close': 2123.929932, 'Volume': 2366950000.0, 'CloseUSD': 2123.929932}\n",
      "{'Index': 'HSI', 'Date': '2009-12-11', 'Open': 21796.83008, 'High': 22143.83984, 'Low': 21796.83008, 'Close': 21902.10938, 'Adj Close': 21902.10938, 'Volume': 1537443400.0, 'CloseUSD': 2847.2742194}\n",
      "{'Index': 'GDAXI', 'Date': '2001-09-07', 'Open': 4871.410156, 'High': 4910.930176, 'Low': 4713.120117, 'Close': 4730.669922, 'Adj Close': 4730.669922, 'Volume': 86180900.0, 'CloseUSD': 5771.41730484}\n",
      "{'Index': 'GDAXI', 'Date': '1998-03-18', 'Open': 4958.959961, 'High': 4958.959961, 'Low': 4874.529785, 'Close': 4908.549805, 'Adj Close': 4908.549805, 'Volume': 0.0, 'CloseUSD': 5988.4307621}\n",
      "{'Index': '000001.SS', 'Date': '2006-05-09', 'Open': 1503.239014, 'High': 1532.754028, 'Low': 1497.994019, 'Close': 1531.161011, 'Adj Close': 1531.161011, 'Volume': 64600.0, 'CloseUSD': 244.98576176}\n",
      "{'Index': 'NYA', 'Date': '2017-08-08', 'Open': 11987.76953, 'High': 12019.84961, 'Low': 11931.70996, 'Close': 11949.96973, 'Adj Close': 11949.96973, 'Volume': 3344640000.0, 'CloseUSD': 11949.96973}\n",
      "{'Index': 'GSPTSE', 'Date': '2013-07-22', 'Open': 12685.09961, 'High': 12761.40039, 'Low': 12685.09961, 'Close': 12758.40039, 'Adj Close': 12758.40039, 'Volume': 158140000.0, 'CloseUSD': 10589.4723237}\n",
      "{'Index': 'N225', 'Date': '2004-07-08', 'Open': 11372.62988, 'High': 11411.30957, 'Low': 11279.54981, 'Close': 11322.23047, 'Adj Close': 11322.23047, 'Volume': 61500000.0, 'CloseUSD': 113.2223047}\n",
      "{'Index': '399001.SZ', 'Date': '2013-01-17', 'Open': 9335.049805, 'High': 9373.410156, 'Low': 9258.580078, 'Close': 9309.230469, 'Adj Close': 9309.125977, 'Volume': 80900.0, 'CloseUSD': 1489.47687504}\n",
      "{'Index': 'NYA', 'Date': '1992-10-29', 'Open': 2446.969971, 'High': 2446.969971, 'Low': 2446.969971, 'Close': 2446.969971, 'Adj Close': 2446.969971, 'Volume': 0.0, 'CloseUSD': 2446.969971}\n",
      "{'Index': 'IXIC', 'Date': '2011-05-23', 'Open': 2761.959961, 'High': 2770.51001, 'Low': 2750.639893, 'Close': 2758.899902, 'Adj Close': 2758.899902, 'Volume': 1795680000.0, 'CloseUSD': 2758.899902}\n",
      "{'Index': 'IXIC', 'Date': '1972-12-04', 'Open': 134.139999, 'High': 134.139999, 'Low': 134.139999, 'Close': 134.139999, 'Adj Close': 134.139999, 'Volume': 0.0, 'CloseUSD': 134.139999}\n",
      "{'Index': 'GDAXI', 'Date': '2008-01-02', 'Open': 8045.970215, 'High': 8100.640137, 'Low': 7925.109863, 'Close': 7949.109863, 'Adj Close': 7949.109863, 'Volume': 110721200.0, 'CloseUSD': 9697.91403286}\n",
      "{'Index': 'GSPTSE', 'Date': '2020-03-12', 'Open': 13611.79981, 'High': 13611.79981, 'Low': 12451.09961, 'Close': 12508.5, 'Adj Close': 12508.5, 'Volume': 67833290000.0, 'CloseUSD': 10382.055}\n",
      "{'Index': 'J203.JO', 'Date': '2019-01-29', 'Open': 53767.46875, 'High': 54504.57031, 'Low': 53767.46875, 'Close': 54387.69922, 'Adj Close': 54387.69922, 'Volume': 0.0, 'CloseUSD': 3807.138945400001}\n",
      "{'Index': 'NYA', 'Date': '2015-08-11', 'Open': 10857.08984, 'High': 10857.08984, 'Low': 10757.17969, 'Close': 10802.08984, 'Adj Close': 10802.08984, 'Volume': 3708880000.0, 'CloseUSD': 10802.08984}\n",
      "{'Index': '000001.SS', 'Date': '2002-03-08', 'Open': 1622.869019, 'High': 1645.291992, 'Low': 1611.228027, 'Close': 1640.255981, 'Adj Close': 1640.255981, 'Volume': 0.0, 'CloseUSD': 262.44095696}\n",
      "{'Index': 'NSEI', 'Date': '2008-11-11', 'Open': 3147.199951, 'High': 3147.199951, 'Low': 2919.449951, 'Close': 2938.649902, 'Adj Close': 2938.649902, 'Volume': 0.0, 'CloseUSD': 29.38649902}\n",
      "{'Index': 'GSPTSE', 'Date': '1982-11-08', 'Open': 1874.800049, 'High': 1874.800049, 'Low': 1860.400024, 'Close': 1865.099976, 'Adj Close': 1860.363525, 'Volume': 0.0, 'CloseUSD': 1548.0329800799998}\n",
      "{'Index': 'NYA', 'Date': '1983-01-24', 'Open': 855.630005, 'High': 855.630005, 'Low': 855.630005, 'Close': 855.630005, 'Adj Close': 855.630005, 'Volume': 0.0, 'CloseUSD': 855.630005}\n",
      "{'Index': '399001.SZ', 'Date': '2003-10-27', 'Open': 3185.620117, 'High': 3192.290039, 'Low': 3153.159912, 'Close': 3174.51001, 'Adj Close': 3174.474365, 'Volume': 0.0, 'CloseUSD': 507.9216016}\n",
      "{'Index': 'SSMI', 'Date': '2002-06-10', 'Open': 6288.0, 'High': 6310.100098, 'Low': 6234.700195, 'Close': 6267.5, 'Adj Close': 6267.5, 'Volume': 0.0, 'CloseUSD': 6956.925}\n",
      "{'Index': 'GDAXI', 'Date': '1998-10-06', 'Open': 3966.310059, 'High': 4190.799805, 'Low': 3963.379883, 'Close': 4185.390137, 'Adj Close': 4185.390137, 'Volume': 0.0, 'CloseUSD': 5106.1759671400005}\n",
      "{'Index': 'TWII', 'Date': '2004-07-22', 'Open': 5301.540039, 'High': 5395.779785, 'Low': 5285.160156, 'Close': 5387.959961, 'Adj Close': 5387.939941, 'Volume': 2860800.0, 'CloseUSD': 215.51839844}\n",
      "{'Index': 'N225', 'Date': '2012-10-19', 'Open': 8944.030273, 'High': 9016.900391, 'Low': 8940.379883, 'Close': 9002.679688, 'Adj Close': 9002.679688, 'Volume': 134700000.0, 'CloseUSD': 90.02679688}\n",
      "{'Index': 'N100', 'Date': '2002-03-26', 'Open': 801.47998, 'High': 811.159973, 'Low': 801.47998, 'Close': 808.909973, 'Adj Close': 808.909973, 'Volume': 0.0, 'CloseUSD': 986.87016706}\n",
      "{'Index': 'N225', 'Date': '1990-01-29', 'Open': 36912.51172, 'High': 37224.78906, 'Low': 36912.51172, 'Close': 37173.69922, 'Adj Close': 37173.69922, 'Volume': 0.0, 'CloseUSD': 371.7369922}\n",
      "{'Index': 'N225', 'Date': '2013-12-27', 'Open': 16229.42969, 'High': 16232.69043, 'Low': 16056.73047, 'Close': 16178.94043, 'Adj Close': 16178.94043, 'Volume': 170600000.0, 'CloseUSD': 161.7894043}\n",
      "{'Index': 'IXIC', 'Date': '1979-03-13', 'Open': 127.690002, 'High': 127.690002, 'Low': 127.690002, 'Close': 127.690002, 'Adj Close': 127.690002, 'Volume': 0.0, 'CloseUSD': 127.690002}\n",
      "{'Index': 'GSPTSE', 'Date': '1989-11-23', 'Open': 3917.0, 'High': 3918.0, 'Low': 3912.0, 'Close': 3916.0, 'Adj Close': 3906.05542, 'Volume': 10090000.0, 'CloseUSD': 3250.28}\n",
      "{'Index': 'N100', 'Date': '2020-07-07', 'Open': 1003.599976, 'High': 1003.72998, 'Low': 995.719971, 'Close': 1002.640015, 'Adj Close': 1002.640015, 'Volume': 202133600.0, 'CloseUSD': 1223.2208183}\n",
      "{'Index': 'GSPTSE', 'Date': '1980-10-22', 'Open': 2360.300049, 'High': 2365.899902, 'Low': 2356.100098, 'Close': 2357.699951, 'Adj Close': 2351.712646, 'Volume': 0.0, 'CloseUSD': 1956.89095933}\n",
      "{'Index': 'GDAXI', 'Date': '2004-11-22', 'Open': 4115.910156, 'High': 4123.97998, 'Low': 4088.590088, 'Close': 4123.97998, 'Adj Close': 4123.97998, 'Volume': 75104900.0, 'CloseUSD': 5031.2555756}\n",
      "{'Index': '399001.SZ', 'Date': '2001-05-10', 'Open': 4826.220215, 'High': 4863.589844, 'Low': 4824.890137, 'Close': 4838.470215, 'Adj Close': 4838.416016, 'Volume': 0.0, 'CloseUSD': 774.1552344}\n"
     ]
    },
    {
     "name": "stdout",
     "output_type": "stream",
     "text": [
      "{'Index': 'SSMI', 'Date': '2005-07-19', 'Open': 6469.100098, 'High': 6482.899902, 'Low': 6446.399902, 'Close': 6482.100098, 'Adj Close': 6482.100098, 'Volume': 35483600.0, 'CloseUSD': 7195.13110878}\n",
      "{'Index': 'HSI', 'Date': '2017-04-26', 'Open': 24563.25, 'High': 24637.84961, 'Low': 24515.23047, 'Close': 24578.42969, 'Adj Close': 24578.42969, 'Volume': 1668740700.0, 'CloseUSD': 3195.1958597000003}\n",
      "{'Index': 'GSPTSE', 'Date': '2017-04-07', 'Open': 15699.59961, 'High': 15704.09961, 'Low': 15641.29981, 'Close': 15667.09961, 'Adj Close': 15667.09961, 'Volume': 21429330000.0, 'CloseUSD': 13003.6926763}\n",
      "{'Index': 'HSI', 'Date': '2009-06-05', 'Open': 18674.48047, 'High': 18722.49023, 'Low': 18406.85938, 'Close': 18679.5293, 'Adj Close': 18679.5293, 'Volume': 2501280000.0, 'CloseUSD': 2428.338809}\n",
      "{'Index': 'NYA', 'Date': '2020-03-27', 'Open': 10135.73047, 'High': 10449.21973, 'Low': 10064.5, 'Close': 10187.20996, 'Adj Close': 10187.20996, 'Volume': 6194330000.0, 'CloseUSD': 10187.20996}\n",
      "{'Index': '399001.SZ', 'Date': '1999-04-15', 'Open': 2905.689941, 'High': 2907.77002, 'Low': 2863.26001, 'Close': 2864.23999, 'Adj Close': 2864.208008, 'Volume': 0.0, 'CloseUSD': 458.2783984}\n",
      "{'Index': 'NYA', 'Date': '1979-10-29', 'Open': 603.22998, 'High': 603.22998, 'Low': 603.22998, 'Close': 603.22998, 'Adj Close': 603.22998, 'Volume': 0.0, 'CloseUSD': 603.22998}\n",
      "{'Index': 'N225', 'Date': '2018-03-02', 'Open': 21339.98047, 'High': 21366.08984, 'Low': 21088.96094, 'Close': 21181.64063, 'Adj Close': 21181.64063, 'Volume': 97100000.0, 'CloseUSD': 211.8164063}\n",
      "{'Index': 'N225', 'Date': '2002-04-10', 'Open': 11089.12988, 'High': 11293.16992, 'Low': 11052.7002, 'Close': 11218.58008, 'Adj Close': 11218.58008, 'Volume': 0.0, 'CloseUSD': 112.1858008}\n",
      "{'Index': 'NYA', 'Date': '2015-11-11', 'Open': 10454.15039, 'High': 10460.34961, 'Low': 10396.79004, 'Close': 10399.90039, 'Adj Close': 10399.90039, 'Volume': 3692410000.0, 'CloseUSD': 10399.90039}\n",
      "{'Index': 'NYA', 'Date': '1997-02-20', 'Open': 4452.490234, 'High': 4452.490234, 'Low': 4452.490234, 'Close': 4452.490234, 'Adj Close': 4452.490234, 'Volume': 0.0, 'CloseUSD': 4452.490234}\n",
      "{'Index': '000001.SS', 'Date': '2015-10-12', 'Open': 3193.540039, 'High': 3318.714111, 'Low': 3188.406982, 'Close': 3287.662109, 'Adj Close': 3287.662109, 'Volume': 386300.0, 'CloseUSD': 526.02593744}\n",
      "{'Index': 'GDAXI', 'Date': '1996-12-03', 'Open': 2871.719971, 'High': 2901.26001, 'Low': 2871.320068, 'Close': 2900.76001, 'Adj Close': 2900.76001, 'Volume': 0.0, 'CloseUSD': 3538.9272122}\n",
      "{'Index': 'GSPTSE', 'Date': '1983-09-23', 'Open': 2593.699951, 'High': 2597.699951, 'Low': 2590.199951, 'Close': 2592.699951, 'Adj Close': 2586.115967, 'Volume': 0.0, 'CloseUSD': 2151.94095933}\n",
      "{'Index': 'NYA', 'Date': '1996-03-21', 'Open': 3680.290039, 'High': 3680.290039, 'Low': 3680.290039, 'Close': 3680.290039, 'Adj Close': 3680.290039, 'Volume': 0.0, 'CloseUSD': 3680.290039}\n",
      "{'Index': '000001.SS', 'Date': '1998-08-18', 'Open': 1054.182007, 'High': 1094.379028, 'Low': 1043.021973, 'Close': 1071.300049, 'Adj Close': 1071.300049, 'Volume': 0.0, 'CloseUSD': 171.40800783999998}\n",
      "{'Index': 'NSEI', 'Date': '2016-07-19', 'Open': 8514.299805, 'High': 8540.049805, 'Low': 8476.700195, 'Close': 8528.549805, 'Adj Close': 8528.549805, 'Volume': 167900.0, 'CloseUSD': 85.28549805}\n",
      "{'Index': '399001.SZ', 'Date': '2019-07-25', 'Open': 9265.30957, 'High': 9344.820313, 'Low': 9247.969727, 'Close': 9344.820313, 'Adj Close': 9344.820313, 'Volume': 99000.0, 'CloseUSD': 1495.1712500800002}\n",
      "{'Index': 'NYA', 'Date': '2010-01-27', 'Open': 7028.419922, 'High': 7044.52002, 'Low': 6944.080078, 'Close': 7035.609863, 'Adj Close': 7035.609863, 'Volume': 5319120000.0, 'CloseUSD': 7035.609863}\n",
      "{'Index': 'GSPTSE', 'Date': '2005-07-08', 'Open': 10135.59961, 'High': 10188.79981, 'Low': 10121.0, 'Close': 10177.90039, 'Adj Close': 10177.90039, 'Volume': 10496470000.0, 'CloseUSD': 8447.6573237}\n",
      "{'Index': 'SSMI', 'Date': '2012-01-27', 'Open': 6083.189941, 'High': 6104.399902, 'Low': 6029.0, 'Close': 6033.52002, 'Adj Close': 6033.52002, 'Volume': 41319900.0, 'CloseUSD': 6697.207222200001}\n",
      "{'Index': 'TWII', 'Date': '2001-02-23', 'Open': 5727.029785, 'High': 5778.100098, 'Low': 5678.22998, 'Close': 5726.930176, 'Adj Close': 5726.90918, 'Volume': 0.0, 'CloseUSD': 229.07720704}\n",
      "{'Index': 'IXIC', 'Date': '1985-10-17', 'Open': 287.399994, 'High': 288.600006, 'Low': 286.700012, 'Close': 288.299988, 'Adj Close': 288.299988, 'Volume': 95470000.0, 'CloseUSD': 288.299988}\n",
      "{'Index': 'SSMI', 'Date': '2018-08-03', 'Open': 9163.889648, 'High': 9174.259766, 'Low': 9127.160156, 'Close': 9158.0, 'Adj Close': 9158.0, 'Volume': 39492000.0, 'CloseUSD': 10165.38}\n",
      "{'Index': 'N100', 'Date': '2015-07-02', 'Open': 960.619995, 'High': 961.669983, 'Low': 949.320007, 'Close': 949.72998, 'Adj Close': 949.72998, 'Volume': 374200000.0, 'CloseUSD': 1158.6705756}\n",
      "{'Index': 'TWII', 'Date': '1999-06-29', 'Open': 8428.839844, 'High': 8514.269531, 'Low': 8407.950195, 'Close': 8514.269531, 'Adj Close': 8514.237305, 'Volume': 0.0, 'CloseUSD': 340.57078124000003}\n",
      "{'Index': 'GDAXI', 'Date': '1992-07-01', 'Open': 1759.900024, 'High': 1759.900024, 'Low': 1759.900024, 'Close': 1759.900024, 'Adj Close': 1759.900024, 'Volume': 0.0, 'CloseUSD': 2147.07802928}\n",
      "{'Index': 'SSMI', 'Date': '2012-05-23', 'Open': 5871.609863, 'High': 5906.220215, 'Low': 5817.02002, 'Close': 5817.910156, 'Adj Close': 5817.910156, 'Volume': 47655500.0, 'CloseUSD': 6457.880273160001}\n",
      "{'Index': 'N225', 'Date': '1982-11-24', 'Open': 7846.77002, 'High': 7846.77002, 'Low': 7846.77002, 'Close': 7846.77002, 'Adj Close': 7846.77002, 'Volume': 0.0, 'CloseUSD': 78.4677002}\n",
      "{'Index': 'N225', 'Date': '2012-11-07', 'Open': 9030.55957, 'High': 9032.320313, 'Low': 8924.410156, 'Close': 8972.889648, 'Adj Close': 8972.889648, 'Volume': 130900000.0, 'CloseUSD': 89.72889648}\n"
     ]
    },
    {
     "ename": "KeyboardInterrupt",
     "evalue": "",
     "output_type": "error",
     "traceback": [
      "\u001b[0;31m---------------------------------------------------------------------------\u001b[0m",
      "\u001b[0;31mKeyboardInterrupt\u001b[0m                         Traceback (most recent call last)",
      "Input \u001b[0;32mIn [7]\u001b[0m, in \u001b[0;36m<cell line: 1>\u001b[0;34m()\u001b[0m\n\u001b[0;32m----> 1\u001b[0m \u001b[38;5;28;01mfor\u001b[39;00m c \u001b[38;5;129;01min\u001b[39;00m consumer:\n\u001b[1;32m      2\u001b[0m     \u001b[38;5;28mprint\u001b[39m(c\u001b[38;5;241m.\u001b[39mvalue)\n",
      "File \u001b[0;32m/opt/anaconda3/lib/python3.9/site-packages/kafka/consumer/group.py:1193\u001b[0m, in \u001b[0;36mKafkaConsumer.__next__\u001b[0;34m(self)\u001b[0m\n\u001b[1;32m   1191\u001b[0m     \u001b[38;5;28;01mreturn\u001b[39;00m \u001b[38;5;28mself\u001b[39m\u001b[38;5;241m.\u001b[39mnext_v1()\n\u001b[1;32m   1192\u001b[0m \u001b[38;5;28;01melse\u001b[39;00m:\n\u001b[0;32m-> 1193\u001b[0m     \u001b[38;5;28;01mreturn\u001b[39;00m \u001b[38;5;28;43mself\u001b[39;49m\u001b[38;5;241;43m.\u001b[39;49m\u001b[43mnext_v2\u001b[49m\u001b[43m(\u001b[49m\u001b[43m)\u001b[49m\n",
      "File \u001b[0;32m/opt/anaconda3/lib/python3.9/site-packages/kafka/consumer/group.py:1201\u001b[0m, in \u001b[0;36mKafkaConsumer.next_v2\u001b[0;34m(self)\u001b[0m\n\u001b[1;32m   1199\u001b[0m     \u001b[38;5;28mself\u001b[39m\u001b[38;5;241m.\u001b[39m_iterator \u001b[38;5;241m=\u001b[39m \u001b[38;5;28mself\u001b[39m\u001b[38;5;241m.\u001b[39m_message_generator_v2()\n\u001b[1;32m   1200\u001b[0m \u001b[38;5;28;01mtry\u001b[39;00m:\n\u001b[0;32m-> 1201\u001b[0m     \u001b[38;5;28;01mreturn\u001b[39;00m \u001b[38;5;28;43mnext\u001b[39;49m\u001b[43m(\u001b[49m\u001b[38;5;28;43mself\u001b[39;49m\u001b[38;5;241;43m.\u001b[39;49m\u001b[43m_iterator\u001b[49m\u001b[43m)\u001b[49m\n\u001b[1;32m   1202\u001b[0m \u001b[38;5;28;01mexcept\u001b[39;00m \u001b[38;5;167;01mStopIteration\u001b[39;00m:\n\u001b[1;32m   1203\u001b[0m     \u001b[38;5;28mself\u001b[39m\u001b[38;5;241m.\u001b[39m_iterator \u001b[38;5;241m=\u001b[39m \u001b[38;5;28;01mNone\u001b[39;00m\n",
      "File \u001b[0;32m/opt/anaconda3/lib/python3.9/site-packages/kafka/consumer/group.py:1116\u001b[0m, in \u001b[0;36mKafkaConsumer._message_generator_v2\u001b[0;34m(self)\u001b[0m\n\u001b[1;32m   1114\u001b[0m \u001b[38;5;28;01mdef\u001b[39;00m \u001b[38;5;21m_message_generator_v2\u001b[39m(\u001b[38;5;28mself\u001b[39m):\n\u001b[1;32m   1115\u001b[0m     timeout_ms \u001b[38;5;241m=\u001b[39m \u001b[38;5;241m1000\u001b[39m \u001b[38;5;241m*\u001b[39m (\u001b[38;5;28mself\u001b[39m\u001b[38;5;241m.\u001b[39m_consumer_timeout \u001b[38;5;241m-\u001b[39m time\u001b[38;5;241m.\u001b[39mtime())\n\u001b[0;32m-> 1116\u001b[0m     record_map \u001b[38;5;241m=\u001b[39m \u001b[38;5;28;43mself\u001b[39;49m\u001b[38;5;241;43m.\u001b[39;49m\u001b[43mpoll\u001b[49m\u001b[43m(\u001b[49m\u001b[43mtimeout_ms\u001b[49m\u001b[38;5;241;43m=\u001b[39;49m\u001b[43mtimeout_ms\u001b[49m\u001b[43m,\u001b[49m\u001b[43m \u001b[49m\u001b[43mupdate_offsets\u001b[49m\u001b[38;5;241;43m=\u001b[39;49m\u001b[38;5;28;43;01mFalse\u001b[39;49;00m\u001b[43m)\u001b[49m\n\u001b[1;32m   1117\u001b[0m     \u001b[38;5;28;01mfor\u001b[39;00m tp, records \u001b[38;5;129;01min\u001b[39;00m six\u001b[38;5;241m.\u001b[39miteritems(record_map):\n\u001b[1;32m   1118\u001b[0m         \u001b[38;5;66;03m# Generators are stateful, and it is possible that the tp / records\u001b[39;00m\n\u001b[1;32m   1119\u001b[0m         \u001b[38;5;66;03m# here may become stale during iteration -- i.e., we seek to a\u001b[39;00m\n\u001b[1;32m   1120\u001b[0m         \u001b[38;5;66;03m# different offset, pause consumption, or lose assignment.\u001b[39;00m\n\u001b[1;32m   1121\u001b[0m         \u001b[38;5;28;01mfor\u001b[39;00m record \u001b[38;5;129;01min\u001b[39;00m records:\n\u001b[1;32m   1122\u001b[0m             \u001b[38;5;66;03m# is_fetchable(tp) should handle assignment changes and offset\u001b[39;00m\n\u001b[1;32m   1123\u001b[0m             \u001b[38;5;66;03m# resets; for all other changes (e.g., seeks) we'll rely on the\u001b[39;00m\n\u001b[1;32m   1124\u001b[0m             \u001b[38;5;66;03m# outer function destroying the existing iterator/generator\u001b[39;00m\n\u001b[1;32m   1125\u001b[0m             \u001b[38;5;66;03m# via self._iterator = None\u001b[39;00m\n",
      "File \u001b[0;32m/opt/anaconda3/lib/python3.9/site-packages/kafka/consumer/group.py:655\u001b[0m, in \u001b[0;36mKafkaConsumer.poll\u001b[0;34m(self, timeout_ms, max_records, update_offsets)\u001b[0m\n\u001b[1;32m    653\u001b[0m remaining \u001b[38;5;241m=\u001b[39m timeout_ms\n\u001b[1;32m    654\u001b[0m \u001b[38;5;28;01mwhile\u001b[39;00m \u001b[38;5;28;01mTrue\u001b[39;00m:\n\u001b[0;32m--> 655\u001b[0m     records \u001b[38;5;241m=\u001b[39m \u001b[38;5;28;43mself\u001b[39;49m\u001b[38;5;241;43m.\u001b[39;49m\u001b[43m_poll_once\u001b[49m\u001b[43m(\u001b[49m\u001b[43mremaining\u001b[49m\u001b[43m,\u001b[49m\u001b[43m \u001b[49m\u001b[43mmax_records\u001b[49m\u001b[43m,\u001b[49m\u001b[43m \u001b[49m\u001b[43mupdate_offsets\u001b[49m\u001b[38;5;241;43m=\u001b[39;49m\u001b[43mupdate_offsets\u001b[49m\u001b[43m)\u001b[49m\n\u001b[1;32m    656\u001b[0m     \u001b[38;5;28;01mif\u001b[39;00m records:\n\u001b[1;32m    657\u001b[0m         \u001b[38;5;28;01mreturn\u001b[39;00m records\n",
      "File \u001b[0;32m/opt/anaconda3/lib/python3.9/site-packages/kafka/consumer/group.py:702\u001b[0m, in \u001b[0;36mKafkaConsumer._poll_once\u001b[0;34m(self, timeout_ms, max_records, update_offsets)\u001b[0m\n\u001b[1;32m    699\u001b[0m     \u001b[38;5;28mself\u001b[39m\u001b[38;5;241m.\u001b[39m_client\u001b[38;5;241m.\u001b[39mpoll(timeout_ms\u001b[38;5;241m=\u001b[39m\u001b[38;5;241m0\u001b[39m)\n\u001b[1;32m    701\u001b[0m timeout_ms \u001b[38;5;241m=\u001b[39m \u001b[38;5;28mmin\u001b[39m(timeout_ms, \u001b[38;5;28mself\u001b[39m\u001b[38;5;241m.\u001b[39m_coordinator\u001b[38;5;241m.\u001b[39mtime_to_next_poll() \u001b[38;5;241m*\u001b[39m \u001b[38;5;241m1000\u001b[39m)\n\u001b[0;32m--> 702\u001b[0m \u001b[38;5;28;43mself\u001b[39;49m\u001b[38;5;241;43m.\u001b[39;49m\u001b[43m_client\u001b[49m\u001b[38;5;241;43m.\u001b[39;49m\u001b[43mpoll\u001b[49m\u001b[43m(\u001b[49m\u001b[43mtimeout_ms\u001b[49m\u001b[38;5;241;43m=\u001b[39;49m\u001b[43mtimeout_ms\u001b[49m\u001b[43m)\u001b[49m\n\u001b[1;32m    703\u001b[0m \u001b[38;5;66;03m# after the long poll, we should check whether the group needs to rebalance\u001b[39;00m\n\u001b[1;32m    704\u001b[0m \u001b[38;5;66;03m# prior to returning data so that the group can stabilize faster\u001b[39;00m\n\u001b[1;32m    705\u001b[0m \u001b[38;5;28;01mif\u001b[39;00m \u001b[38;5;28mself\u001b[39m\u001b[38;5;241m.\u001b[39m_coordinator\u001b[38;5;241m.\u001b[39mneed_rejoin():\n",
      "File \u001b[0;32m/opt/anaconda3/lib/python3.9/site-packages/kafka/client_async.py:602\u001b[0m, in \u001b[0;36mKafkaClient.poll\u001b[0;34m(self, timeout_ms, future)\u001b[0m\n\u001b[1;32m    599\u001b[0m             timeout \u001b[38;5;241m=\u001b[39m \u001b[38;5;28mmin\u001b[39m(timeout, \u001b[38;5;28mself\u001b[39m\u001b[38;5;241m.\u001b[39mconfig[\u001b[38;5;124m'\u001b[39m\u001b[38;5;124mretry_backoff_ms\u001b[39m\u001b[38;5;124m'\u001b[39m])\n\u001b[1;32m    600\u001b[0m         timeout \u001b[38;5;241m=\u001b[39m \u001b[38;5;28mmax\u001b[39m(\u001b[38;5;241m0\u001b[39m, timeout)  \u001b[38;5;66;03m# avoid negative timeouts\u001b[39;00m\n\u001b[0;32m--> 602\u001b[0m     \u001b[38;5;28;43mself\u001b[39;49m\u001b[38;5;241;43m.\u001b[39;49m\u001b[43m_poll\u001b[49m\u001b[43m(\u001b[49m\u001b[43mtimeout\u001b[49m\u001b[43m \u001b[49m\u001b[38;5;241;43m/\u001b[39;49m\u001b[43m \u001b[49m\u001b[38;5;241;43m1000\u001b[39;49m\u001b[43m)\u001b[49m\n\u001b[1;32m    604\u001b[0m \u001b[38;5;66;03m# called without the lock to avoid deadlock potential\u001b[39;00m\n\u001b[1;32m    605\u001b[0m \u001b[38;5;66;03m# if handlers need to acquire locks\u001b[39;00m\n\u001b[1;32m    606\u001b[0m responses\u001b[38;5;241m.\u001b[39mextend(\u001b[38;5;28mself\u001b[39m\u001b[38;5;241m.\u001b[39m_fire_pending_completed_requests())\n",
      "File \u001b[0;32m/opt/anaconda3/lib/python3.9/site-packages/kafka/client_async.py:634\u001b[0m, in \u001b[0;36mKafkaClient._poll\u001b[0;34m(self, timeout)\u001b[0m\n\u001b[1;32m    631\u001b[0m \u001b[38;5;28mself\u001b[39m\u001b[38;5;241m.\u001b[39m_register_send_sockets()\n\u001b[1;32m    633\u001b[0m start_select \u001b[38;5;241m=\u001b[39m time\u001b[38;5;241m.\u001b[39mtime()\n\u001b[0;32m--> 634\u001b[0m ready \u001b[38;5;241m=\u001b[39m \u001b[38;5;28;43mself\u001b[39;49m\u001b[38;5;241;43m.\u001b[39;49m\u001b[43m_selector\u001b[49m\u001b[38;5;241;43m.\u001b[39;49m\u001b[43mselect\u001b[49m\u001b[43m(\u001b[49m\u001b[43mtimeout\u001b[49m\u001b[43m)\u001b[49m\n\u001b[1;32m    635\u001b[0m end_select \u001b[38;5;241m=\u001b[39m time\u001b[38;5;241m.\u001b[39mtime()\n\u001b[1;32m    636\u001b[0m \u001b[38;5;28;01mif\u001b[39;00m \u001b[38;5;28mself\u001b[39m\u001b[38;5;241m.\u001b[39m_sensors:\n",
      "File \u001b[0;32m/opt/anaconda3/lib/python3.9/selectors.py:562\u001b[0m, in \u001b[0;36mKqueueSelector.select\u001b[0;34m(self, timeout)\u001b[0m\n\u001b[1;32m    560\u001b[0m ready \u001b[38;5;241m=\u001b[39m []\n\u001b[1;32m    561\u001b[0m \u001b[38;5;28;01mtry\u001b[39;00m:\n\u001b[0;32m--> 562\u001b[0m     kev_list \u001b[38;5;241m=\u001b[39m \u001b[38;5;28;43mself\u001b[39;49m\u001b[38;5;241;43m.\u001b[39;49m\u001b[43m_selector\u001b[49m\u001b[38;5;241;43m.\u001b[39;49m\u001b[43mcontrol\u001b[49m\u001b[43m(\u001b[49m\u001b[38;5;28;43;01mNone\u001b[39;49;00m\u001b[43m,\u001b[49m\u001b[43m \u001b[49m\u001b[43mmax_ev\u001b[49m\u001b[43m,\u001b[49m\u001b[43m \u001b[49m\u001b[43mtimeout\u001b[49m\u001b[43m)\u001b[49m\n\u001b[1;32m    563\u001b[0m \u001b[38;5;28;01mexcept\u001b[39;00m \u001b[38;5;167;01mInterruptedError\u001b[39;00m:\n\u001b[1;32m    564\u001b[0m     \u001b[38;5;28;01mreturn\u001b[39;00m ready\n",
      "\u001b[0;31mKeyboardInterrupt\u001b[0m: "
     ]
    }
   ],
   "source": [
    "for c in consumer:\n",
    "    print(c.value)"
   ]
  },
  {
   "cell_type": "code",
   "execution_count": 4,
   "id": "ddfe431d",
   "metadata": {},
   "outputs": [],
   "source": [
    "s3 = S3FileSystem()"
   ]
  },
  {
   "cell_type": "code",
   "execution_count": null,
   "id": "32d74ec1",
   "metadata": {},
   "outputs": [],
   "source": [
    "for count, i in enumerate(consumer):\n",
    "    with s3.open(\"s3://kafkabucket213/stock_market_{}.json\".format(count), 'w') as file:\n",
    "        json.dump(i.value, file)    "
   ]
  },
  {
   "cell_type": "code",
   "execution_count": null,
   "id": "361ce0d9",
   "metadata": {},
   "outputs": [],
   "source": []
  }
 ],
 "metadata": {
  "kernelspec": {
   "display_name": "Python 3 (ipykernel)",
   "language": "python",
   "name": "python3"
  },
  "language_info": {
   "codemirror_mode": {
    "name": "ipython",
    "version": 3
   },
   "file_extension": ".py",
   "mimetype": "text/x-python",
   "name": "python",
   "nbconvert_exporter": "python",
   "pygments_lexer": "ipython3",
   "version": "3.9.12"
  }
 },
 "nbformat": 4,
 "nbformat_minor": 5
}
